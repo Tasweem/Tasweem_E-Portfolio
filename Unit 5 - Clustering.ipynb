{
 "cells": [
  {
   "cell_type": "code",
   "execution_count": 1,
   "id": "086424bf",
   "metadata": {},
   "outputs": [
    {
     "data": {
      "text/plain": [
       "(0.6666666666666666, 1.0, 0.6666666666666666)"
      ]
     },
     "execution_count": 1,
     "metadata": {},
     "output_type": "execute_result"
    }
   ],
   "source": [
    "def jaccard_coefficient(set1, set2):\n",
    "    \"\"\"Calculate Jaccard Coefficient for two sets.\"\"\"\n",
    "    intersection = len(set1 & set2)\n",
    "    union = len(set1 | set2)\n",
    "    return intersection / union\n",
    "\n",
    "# Extract attributes for each individual\n",
    "jack = {'M', 'Y', 'N', 'P', 'N', 'N', 'A'}\n",
    "mary = {'F', 'Y', 'N', 'P', 'A', 'P', 'N'}\n",
    "jim = {'M', 'Y', 'P', 'N', 'N', 'N', 'A'}\n",
    "\n",
    "# Calculate Jaccard Coefficient for the given pairs\n",
    "jack_mary = jaccard_coefficient(jack, mary)\n",
    "jack_jim = jaccard_coefficient(jack, jim)\n",
    "jim_mary = jaccard_coefficient(jim, mary)\n",
    "\n",
    "jack_mary, jack_jim, jim_mary\n"
   ]
  }
 ],
 "metadata": {
  "kernelspec": {
   "display_name": "Python 3 (ipykernel)",
   "language": "python",
   "name": "python3"
  },
  "language_info": {
   "codemirror_mode": {
    "name": "ipython",
    "version": 3
   },
   "file_extension": ".py",
   "mimetype": "text/x-python",
   "name": "python",
   "nbconvert_exporter": "python",
   "pygments_lexer": "ipython3",
   "version": "3.10.9"
  }
 },
 "nbformat": 4,
 "nbformat_minor": 5
}
