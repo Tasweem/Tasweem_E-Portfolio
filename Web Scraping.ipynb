{
 "cells": [
  {
   "cell_type": "code",
   "execution_count": 5,
   "id": "a556df93",
   "metadata": {},
   "outputs": [
    {
     "name": "stdout",
     "output_type": "stream",
     "text": [
      "Data scraped and saved successfully!\n"
     ]
    }
   ],
   "source": [
    "import requests\n",
    "import json\n",
    "import xml.etree.ElementTree as ET\n",
    "from bs4 import BeautifulSoup\n",
    "\n",
    "# URL of the search page\n",
    "url = \"https://www.goodreads.com/search\"\n",
    "\n",
    "# Parameters for the search query\n",
    "params = {\n",
    "    \"q\": \"Data Scientist\",\n",
    "    \"search_type\": \"books\"\n",
    "}\n",
    "\n",
    "# Send a GET request to the search page\n",
    "response = requests.get(url, params=params)\n",
    "\n",
    "# Create a BeautifulSoup object to parse the HTML content\n",
    "soup = BeautifulSoup(response.content, \"html.parser\")\n",
    "\n",
    "# Find the book elements on the page\n",
    "book_elements = soup.find_all(\"tr\", itemtype=\"http://schema.org/Book\")\n",
    "\n",
    "# Initialize data list\n",
    "books_data = []\n",
    "\n",
    "# Iterate over each book element and extract the title\n",
    "for book_element in book_elements:\n",
    "    # Extract book title\n",
    "    title_element = book_element.find(\"a\", class_=\"bookTitle\")\n",
    "    title = title_element.text.strip()\n",
    "\n",
    "    # Create a dictionary with book data\n",
    "    book_data = {\n",
    "        \"title\": title\n",
    "    }\n",
    "\n",
    "    # Append book data to the list\n",
    "    books_data.append(book_data)\n",
    "\n",
    "# Save the data to a JSON file\n",
    "json_file = \"books_data.json\"\n",
    "\n",
    "with open(json_file, \"w\") as f:\n",
    "    json.dump(books_data, f, indent=4)\n",
    "\n",
    "# Save the data to an XML file\n",
    "xml_file = \"books_data.xml\"\n",
    "\n",
    "# Create a root element for the XML\n",
    "root = ET.Element(\"books\")\n",
    "\n",
    "# Create sub-elements for each book\n",
    "for book in books_data:\n",
    "    book_element = ET.SubElement(root, \"book\")\n",
    "    title_element = ET.SubElement(book_element, \"title\")\n",
    "    title_element.text = book[\"title\"]\n",
    "\n",
    "# Create an ElementTree from the root element\n",
    "tree = ET.ElementTree(root)\n",
    "\n",
    "# Write the ElementTree to the XML file\n",
    "tree.write(xml_file, encoding=\"utf-8\", xml_declaration=True)\n",
    "\n",
    "# Print success message\n",
    "print(\"Data scraped and saved successfully!\")\n"
   ]
  },
  {
   "cell_type": "code",
   "execution_count": 8,
   "id": "bc7bbaa4",
   "metadata": {},
   "outputs": [
    {
     "name": "stdout",
     "output_type": "stream",
     "text": [
      "[{'title': 'Practical Statistics for Data Scientists: 50 Essential Concepts'}, {'title': 'Introduction to Machine Learning with Python: A Guide for Data Scientists'}, {'title': 'Data Analysis with Open Source Tools: A Hands-On Guide for Programmers and Data Scientists'}, {'title': 'Practical Statistics for Data Scientists: 50+ Essential Concepts Using R and Python'}, {'title': 'Introduction to Data Visualization & Storytelling: A Guide For The Data Scientist'}, {'title': 'Think Like a Data Scientist: Tackle the data science process step-by-step'}, {'title': 'Data Scientists at Work'}, {'title': 'Developing Analytic Talent: Becoming a Data Scientist'}, {'title': 'The Data Science Handbook: Advice and Insights from 25 Amazing Data Scientists'}, {'title': 'Analyzing the Analyzers: An Introspective Survey of Data Scientists and Their Work'}, {'title': 'Truth or Truthiness: Distinguishing Fact from Fiction by Learning to Think Like a Data Scientist'}, {'title': 'Data Science from Scratch: The #1 Data Science Guide for Everything A Data Scientist Needs to Know: Python, Linear Algebra, Statistics, Coding, Applications, Neural Networks, and Decision Tree'}, {'title': 'Data Scientist: The Definitive Guide to Becoming a Data Scientist'}, {'title': 'Feature Engineering for Machine Learning: Principles and Techniques for Data Scientists'}, {'title': 'The Accidental Data Scientist: Big Data Applications and Opportunities for Librarians and Information Professionals'}, {'title': 'Effective Data Science Infrastructure: How to make data scientists productive'}, {'title': 'Data Architecture: A Primer for the Data Scientist: Big Data, Data Warehouse and Data Vault'}, {'title': \"SQL for Data Scientists: A Beginner's Guide for Building Datasets for Analysis\"}, {'title': 'Journey to Data Scientist: Interviews with More Than Twenty Amazing Data Scientists'}, {'title': 'Data Analytics with Hadoop: An Introduction for Data Scientists'}]\n"
     ]
    }
   ],
   "source": [
    "print(books_data)"
   ]
  },
  {
   "cell_type": "code",
   "execution_count": null,
   "id": "95ee6982",
   "metadata": {},
   "outputs": [],
   "source": []
  },
  {
   "cell_type": "code",
   "execution_count": null,
   "id": "7e00a459",
   "metadata": {},
   "outputs": [],
   "source": []
  },
  {
   "cell_type": "code",
   "execution_count": null,
   "id": "bac7a646",
   "metadata": {},
   "outputs": [],
   "source": []
  }
 ],
 "metadata": {
  "kernelspec": {
   "display_name": "Python 3 (ipykernel)",
   "language": "python",
   "name": "python3"
  },
  "language_info": {
   "codemirror_mode": {
    "name": "ipython",
    "version": 3
   },
   "file_extension": ".py",
   "mimetype": "text/x-python",
   "name": "python",
   "nbconvert_exporter": "python",
   "pygments_lexer": "ipython3",
   "version": "3.10.9"
  }
 },
 "nbformat": 4,
 "nbformat_minor": 5
}
