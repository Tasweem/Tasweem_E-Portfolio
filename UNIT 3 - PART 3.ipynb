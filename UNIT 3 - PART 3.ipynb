{
 "cells": [
  {
   "cell_type": "code",
   "execution_count": 21,
   "id": "33355ff7",
   "metadata": {},
   "outputs": [
    {
     "name": "stderr",
     "output_type": "stream",
     "text": [
      "C:\\Users\\tasweemb\\AppData\\Local\\anaconda3\\lib\\site-packages\\sklearn\\base.py:420: UserWarning: X does not have valid feature names, but LinearRegression was fitted with feature names\n",
      "  warnings.warn(\n"
     ]
    },
    {
     "data": {
      "text/plain": [
       "array([22.41764297])"
      ]
     },
     "execution_count": 21,
     "metadata": {},
     "output_type": "execute_result"
    }
   ],
   "source": [
    "import pandas as pd\n",
    "from sklearn import linear_model\n",
    "\n",
    "\n",
    "df = pd.read_csv(\"C:\\\\Users\\\\tasweemb\\\\Documents\\\\Machine Learning Module\\\\Datasets\\\\Auto\\\\auto-mpg.csv\")\n",
    "\n",
    "# Use 'weight' and 'displacement' as predictors\n",
    "x = df[['weight', 'displacement']]\n",
    "# Use 'mpg' as the target variable\n",
    "y = df['mpg']\n",
    "\n",
    "# Create a linear regression model\n",
    "regr = linear_model.LinearRegression()\n",
    "regr.fit(x, y)\n",
    "\n",
    "# Predict the mpg of a car with weight = 2300kg and displacement = 1300cm3\n",
    "predicted_mpg = regr.predict([[3000, 250]])\n",
    "\n",
    "predicted_mpg"
   ]
  },
  {
   "cell_type": "markdown",
   "id": "32218c8c",
   "metadata": {},
   "source": [
    "For a car with a displacement of 250.0 cubic inches and a weight of 3000 pounds, the predicted miles per gallon (mpg) is approximately 22.42 mpg."
   ]
  },
  {
   "cell_type": "code",
   "execution_count": 19,
   "id": "17023a4a",
   "metadata": {},
   "outputs": [
    {
     "name": "stdout",
     "output_type": "stream",
     "text": [
      "[-0.00579774 -0.01635835]\n"
     ]
    }
   ],
   "source": [
    "print(regr.coef_)"
   ]
  },
  {
   "cell_type": "code",
   "execution_count": 20,
   "id": "6b249c63",
   "metadata": {},
   "outputs": [
    {
     "name": "stdout",
     "output_type": "stream",
     "text": [
      "[18.70085323]\n"
     ]
    },
    {
     "name": "stderr",
     "output_type": "stream",
     "text": [
      "C:\\Users\\tasweemb\\AppData\\Local\\anaconda3\\lib\\site-packages\\sklearn\\base.py:420: UserWarning: X does not have valid feature names, but LinearRegression was fitted with feature names\n",
      "  warnings.warn(\n"
     ]
    }
   ],
   "source": [
    "predicted_mpg = regr.predict([[3500, 300]])\n",
    "\n",
    "print(predicted_mpg)"
   ]
  },
  {
   "cell_type": "markdown",
   "id": "fe0272e9",
   "metadata": {},
   "source": [
    "For a car with a displacement of 300.0 cubic inches and a weight of 3500 pounds, the predicted miles per gallon (mpg) is approximately 18.70 mpg."
   ]
  }
 ],
 "metadata": {
  "kernelspec": {
   "display_name": "Python 3 (ipykernel)",
   "language": "python",
   "name": "python3"
  },
  "language_info": {
   "codemirror_mode": {
    "name": "ipython",
    "version": 3
   },
   "file_extension": ".py",
   "mimetype": "text/x-python",
   "name": "python",
   "nbconvert_exporter": "python",
   "pygments_lexer": "ipython3",
   "version": "3.10.9"
  }
 },
 "nbformat": 4,
 "nbformat_minor": 5
}
