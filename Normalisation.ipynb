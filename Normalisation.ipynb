{
 "cells": [
  {
   "cell_type": "code",
   "execution_count": 14,
   "id": "a0afdbc0",
   "metadata": {
    "scrolled": false
   },
   "outputs": [
    {
     "name": "stdout",
     "output_type": "stream",
     "text": [
      "    Student Number   Student Name    Exam Score   Support   Date of Birth    \\\n",
      "0             1001.0      Bob Baker          78.0        No      2001-08-25   \n",
      "1                NaN            NaN           NaN       NaN             NaT   \n",
      "2                NaN            NaN           NaN       NaN             NaT   \n",
      "3             1002.0   Sally Davies          55.0       Yes      1999-10-02   \n",
      "4                NaN            NaN           NaN       NaN             NaT   \n",
      "5                NaN            NaN           NaN       NaN             NaT   \n",
      "6             1003.0   Mark Hanmill          90.0        No      1995-06-05   \n",
      "7                NaN            NaN           NaN       NaN             NaT   \n",
      "8                NaN            NaN           NaN       NaN             NaT   \n",
      "9             1004.0       Anas Ali          70.0        No      1980-08-03   \n",
      "10               NaN            NaN           NaN       NaN             NaT   \n",
      "11               NaN            NaN           NaN       NaN             NaT   \n",
      "12            1005.0      Cheuk Yin          45.0       Yes      2002-05-01   \n",
      "13               NaN            NaN           NaN       NaN             NaT   \n",
      "14               NaN            NaN           NaN       NaN             NaT   \n",
      "\n",
      "       Course Name   Exam Boards   Teacher Name    \n",
      "0   Computer Science           BCS       Mr Jones  \n",
      "1              Maths       EdExcel      Ms Parker  \n",
      "2            Physics           OCR      Mr Peters  \n",
      "3              Maths           AQA      Ms Parker  \n",
      "4            Biology          WJEC      Mrs Patel  \n",
      "5              Music           AQA     Ms Daniels  \n",
      "6   Computer Science           BCS       Mr Jones  \n",
      "7              Maths       EdExcel      Ms Parker  \n",
      "8            Physics           OCR      Mr Peters  \n",
      "9              Maths           AQA      Ms Parker  \n",
      "10           Physics           OCR      Mr Peters  \n",
      "11           Biology          WJEC      Mrs Patel  \n",
      "12  Computer Science           BCS       Mr Jones  \n",
      "13             Maths       EdExcel      Ms Parker  \n",
      "14             Music           AQA     Ms Daniels  \n"
     ]
    }
   ],
   "source": [
    "import pandas as pd\n",
    "\n",
    "# Load the data from the Excel file\n",
    "df = pd.read_excel(\"C:/Users/tasweemb/Downloads/DBD_PCOM7E Table.xlsx\")\n",
    "\n",
    "pd.set_option('display.max_rows', None)\n",
    "print(df)"
   ]
  },
  {
   "cell_type": "code",
   "execution_count": 15,
   "id": "47653e26",
   "metadata": {},
   "outputs": [
    {
     "name": "stdout",
     "output_type": "stream",
     "text": [
      "    Student Number   Student Name    Exam Score   Support   Date of Birth    \\\n",
      "0             1001.0      Bob Baker          78.0        No      2001-08-25   \n",
      "3             1002.0   Sally Davies          55.0       Yes      1999-10-02   \n",
      "6             1003.0   Mark Hanmill          90.0        No      1995-06-05   \n",
      "9             1004.0       Anas Ali          70.0        No      1980-08-03   \n",
      "12            1005.0      Cheuk Yin          45.0       Yes      2002-05-01   \n",
      "\n",
      "       Course Name   Exam Boards   Teacher Name    \n",
      "0   Computer Science           BCS       Mr Jones  \n",
      "3              Maths           AQA      Ms Parker  \n",
      "6   Computer Science           BCS       Mr Jones  \n",
      "9              Maths           AQA      Ms Parker  \n",
      "12  Computer Science           BCS       Mr Jones  \n"
     ]
    }
   ],
   "source": [
    "# Fill forward to replace NaN values in the columns 'Student Number', 'Student Name', 'Support', and 'Date of Birth'\n",
    "df[['Student Number  ', 'Student Name  ', 'Support  ', 'Date of Birth  ']] = df[['Student Number  ', 'Student Name  ', 'Support  ', 'Date of Birth  ']].fillna(method='ffill')\n",
    "\n",
    "# Remove remaining NaN rows\n",
    "df = df.dropna()\n",
    "\n",
    "pd.set_option('display.max_rows', None)\n",
    "print(df)"
   ]
  },
  {
   "cell_type": "code",
   "execution_count": 16,
   "id": "5be7d3f3",
   "metadata": {},
   "outputs": [
    {
     "ename": "KeyError",
     "evalue": "\"['Course Name\\\\xa0\\\\xa0'] not in index\"",
     "output_type": "error",
     "traceback": [
      "\u001b[1;31m---------------------------------------------------------------------------\u001b[0m",
      "\u001b[1;31mKeyError\u001b[0m                                  Traceback (most recent call last)",
      "Cell \u001b[1;32mIn[16], line 3\u001b[0m\n\u001b[0;32m      1\u001b[0m \u001b[38;5;66;03m# Split the data into two tables: 'students' and 'courses'\u001b[39;00m\n\u001b[0;32m      2\u001b[0m students \u001b[38;5;241m=\u001b[39m df[[\u001b[38;5;124m'\u001b[39m\u001b[38;5;124mStudent Number  \u001b[39m\u001b[38;5;124m'\u001b[39m, \u001b[38;5;124m'\u001b[39m\u001b[38;5;124mStudent Name  \u001b[39m\u001b[38;5;124m'\u001b[39m, \u001b[38;5;124m'\u001b[39m\u001b[38;5;124mSupport  \u001b[39m\u001b[38;5;124m'\u001b[39m, \u001b[38;5;124m'\u001b[39m\u001b[38;5;124mDate of Birth  \u001b[39m\u001b[38;5;124m'\u001b[39m]]\u001b[38;5;241m.\u001b[39mdrop_duplicates()\u001b[38;5;241m.\u001b[39mreset_index(drop\u001b[38;5;241m=\u001b[39m\u001b[38;5;28;01mTrue\u001b[39;00m)\n\u001b[1;32m----> 3\u001b[0m courses \u001b[38;5;241m=\u001b[39m \u001b[43mdf\u001b[49m\u001b[43m[\u001b[49m\u001b[43m[\u001b[49m\u001b[38;5;124;43m'\u001b[39;49m\u001b[38;5;124;43mStudent Number  \u001b[39;49m\u001b[38;5;124;43m'\u001b[39;49m\u001b[43m,\u001b[49m\u001b[43m \u001b[49m\u001b[38;5;124;43m'\u001b[39;49m\u001b[38;5;124;43mCourse Name  \u001b[39;49m\u001b[38;5;124;43m'\u001b[39;49m\u001b[43m,\u001b[49m\u001b[43m \u001b[49m\u001b[38;5;124;43m'\u001b[39;49m\u001b[38;5;124;43mExam Score  \u001b[39;49m\u001b[38;5;124;43m'\u001b[39;49m\u001b[43m,\u001b[49m\u001b[43m \u001b[49m\u001b[38;5;124;43m'\u001b[39;49m\u001b[38;5;124;43mExam Boards  \u001b[39;49m\u001b[38;5;124;43m'\u001b[39;49m\u001b[43m,\u001b[49m\u001b[43m \u001b[49m\u001b[38;5;124;43m'\u001b[39;49m\u001b[38;5;124;43mTeacher Name  \u001b[39;49m\u001b[38;5;124;43m'\u001b[39;49m\u001b[43m]\u001b[49m\u001b[43m]\u001b[49m\u001b[38;5;241m.\u001b[39mreset_index(drop\u001b[38;5;241m=\u001b[39m\u001b[38;5;28;01mTrue\u001b[39;00m)\n\u001b[0;32m      5\u001b[0m \u001b[38;5;66;03m# Display the data\u001b[39;00m\n\u001b[0;32m      6\u001b[0m students, courses\n",
      "File \u001b[1;32m~\\AppData\\Local\\anaconda3\\lib\\site-packages\\pandas\\core\\frame.py:3813\u001b[0m, in \u001b[0;36mDataFrame.__getitem__\u001b[1;34m(self, key)\u001b[0m\n\u001b[0;32m   3811\u001b[0m     \u001b[38;5;28;01mif\u001b[39;00m is_iterator(key):\n\u001b[0;32m   3812\u001b[0m         key \u001b[38;5;241m=\u001b[39m \u001b[38;5;28mlist\u001b[39m(key)\n\u001b[1;32m-> 3813\u001b[0m     indexer \u001b[38;5;241m=\u001b[39m \u001b[38;5;28;43mself\u001b[39;49m\u001b[38;5;241;43m.\u001b[39;49m\u001b[43mcolumns\u001b[49m\u001b[38;5;241;43m.\u001b[39;49m\u001b[43m_get_indexer_strict\u001b[49m\u001b[43m(\u001b[49m\u001b[43mkey\u001b[49m\u001b[43m,\u001b[49m\u001b[43m \u001b[49m\u001b[38;5;124;43m\"\u001b[39;49m\u001b[38;5;124;43mcolumns\u001b[39;49m\u001b[38;5;124;43m\"\u001b[39;49m\u001b[43m)\u001b[49m[\u001b[38;5;241m1\u001b[39m]\n\u001b[0;32m   3815\u001b[0m \u001b[38;5;66;03m# take() does not accept boolean indexers\u001b[39;00m\n\u001b[0;32m   3816\u001b[0m \u001b[38;5;28;01mif\u001b[39;00m \u001b[38;5;28mgetattr\u001b[39m(indexer, \u001b[38;5;124m\"\u001b[39m\u001b[38;5;124mdtype\u001b[39m\u001b[38;5;124m\"\u001b[39m, \u001b[38;5;28;01mNone\u001b[39;00m) \u001b[38;5;241m==\u001b[39m \u001b[38;5;28mbool\u001b[39m:\n",
      "File \u001b[1;32m~\\AppData\\Local\\anaconda3\\lib\\site-packages\\pandas\\core\\indexes\\base.py:6070\u001b[0m, in \u001b[0;36mIndex._get_indexer_strict\u001b[1;34m(self, key, axis_name)\u001b[0m\n\u001b[0;32m   6067\u001b[0m \u001b[38;5;28;01melse\u001b[39;00m:\n\u001b[0;32m   6068\u001b[0m     keyarr, indexer, new_indexer \u001b[38;5;241m=\u001b[39m \u001b[38;5;28mself\u001b[39m\u001b[38;5;241m.\u001b[39m_reindex_non_unique(keyarr)\n\u001b[1;32m-> 6070\u001b[0m \u001b[38;5;28;43mself\u001b[39;49m\u001b[38;5;241;43m.\u001b[39;49m\u001b[43m_raise_if_missing\u001b[49m\u001b[43m(\u001b[49m\u001b[43mkeyarr\u001b[49m\u001b[43m,\u001b[49m\u001b[43m \u001b[49m\u001b[43mindexer\u001b[49m\u001b[43m,\u001b[49m\u001b[43m \u001b[49m\u001b[43maxis_name\u001b[49m\u001b[43m)\u001b[49m\n\u001b[0;32m   6072\u001b[0m keyarr \u001b[38;5;241m=\u001b[39m \u001b[38;5;28mself\u001b[39m\u001b[38;5;241m.\u001b[39mtake(indexer)\n\u001b[0;32m   6073\u001b[0m \u001b[38;5;28;01mif\u001b[39;00m \u001b[38;5;28misinstance\u001b[39m(key, Index):\n\u001b[0;32m   6074\u001b[0m     \u001b[38;5;66;03m# GH 42790 - Preserve name from an Index\u001b[39;00m\n",
      "File \u001b[1;32m~\\AppData\\Local\\anaconda3\\lib\\site-packages\\pandas\\core\\indexes\\base.py:6133\u001b[0m, in \u001b[0;36mIndex._raise_if_missing\u001b[1;34m(self, key, indexer, axis_name)\u001b[0m\n\u001b[0;32m   6130\u001b[0m     \u001b[38;5;28;01mraise\u001b[39;00m \u001b[38;5;167;01mKeyError\u001b[39;00m(\u001b[38;5;124mf\u001b[39m\u001b[38;5;124m\"\u001b[39m\u001b[38;5;124mNone of [\u001b[39m\u001b[38;5;132;01m{\u001b[39;00mkey\u001b[38;5;132;01m}\u001b[39;00m\u001b[38;5;124m] are in the [\u001b[39m\u001b[38;5;132;01m{\u001b[39;00maxis_name\u001b[38;5;132;01m}\u001b[39;00m\u001b[38;5;124m]\u001b[39m\u001b[38;5;124m\"\u001b[39m)\n\u001b[0;32m   6132\u001b[0m not_found \u001b[38;5;241m=\u001b[39m \u001b[38;5;28mlist\u001b[39m(ensure_index(key)[missing_mask\u001b[38;5;241m.\u001b[39mnonzero()[\u001b[38;5;241m0\u001b[39m]]\u001b[38;5;241m.\u001b[39munique())\n\u001b[1;32m-> 6133\u001b[0m \u001b[38;5;28;01mraise\u001b[39;00m \u001b[38;5;167;01mKeyError\u001b[39;00m(\u001b[38;5;124mf\u001b[39m\u001b[38;5;124m\"\u001b[39m\u001b[38;5;132;01m{\u001b[39;00mnot_found\u001b[38;5;132;01m}\u001b[39;00m\u001b[38;5;124m not in index\u001b[39m\u001b[38;5;124m\"\u001b[39m)\n",
      "\u001b[1;31mKeyError\u001b[0m: \"['Course Name\\\\xa0\\\\xa0'] not in index\""
     ]
    }
   ],
   "source": [
    "# Split the data into two tables: 'students' and 'courses'\n",
    "students = df[['Student Number  ', 'Student Name  ', 'Support  ', 'Date of Birth  ']].drop_duplicates().reset_index(drop=True)\n",
    "courses = df[['Student Number  ', 'Course Name  ', 'Exam Score  ', 'Exam Boards  ', 'Teacher Name  ']].reset_index(drop=True)\n",
    "\n",
    "# Display the data\n",
    "students, courses\n"
   ]
  },
  {
   "cell_type": "code",
   "execution_count": 17,
   "id": "46a29151",
   "metadata": {},
   "outputs": [
    {
     "data": {
      "text/plain": [
       "(   Student Number  Student Name Support Date of Birth\n",
       " 0          1001.0     Bob Baker      No    2001-08-25\n",
       " 1          1002.0  Sally Davies     Yes    1999-10-02\n",
       " 2          1003.0  Mark Hanmill      No    1995-06-05\n",
       " 3          1004.0      Anas Ali      No    1980-08-03\n",
       " 4          1005.0     Cheuk Yin     Yes    2002-05-01,\n",
       "    Student Number       Course Name  Exam Score Exam Boards Teacher Name\n",
       " 0          1001.0  Computer Science        78.0         BCS     Mr Jones\n",
       " 1          1002.0             Maths        55.0         AQA    Ms Parker\n",
       " 2          1003.0  Computer Science        90.0         BCS     Mr Jones\n",
       " 3          1004.0             Maths        70.0         AQA    Ms Parker\n",
       " 4          1005.0  Computer Science        45.0         BCS     Mr Jones)"
      ]
     },
     "execution_count": 17,
     "metadata": {},
     "output_type": "execute_result"
    }
   ],
   "source": [
    "# Remove trailing white spaces from column names\n",
    "df.columns = df.columns.str.strip()\n",
    "\n",
    "# Split the data into two tables: 'students' and 'courses'\n",
    "students = df[['Student Number', 'Student Name', 'Support', 'Date of Birth']].drop_duplicates().reset_index(drop=True)\n",
    "courses = df[['Student Number', 'Course Name', 'Exam Score', 'Exam Boards', 'Teacher Name']].reset_index(drop=True)\n",
    "\n",
    "# Display the data\n",
    "students, courses\n"
   ]
  },
  {
   "cell_type": "code",
   "execution_count": 5,
   "id": "74baf6ae",
   "metadata": {},
   "outputs": [
    {
     "data": {
      "text/plain": [
       "(   Student Number  Student Name Support Date of Birth\n",
       " 0          1001.0     Bob Baker      No    2001-08-25\n",
       " 1          1002.0  Sally Davies     Yes    1999-10-02\n",
       " 2          1003.0  Mark Hanmill      No    1995-06-05\n",
       " 3          1004.0      Anas Ali      No    1980-08-03\n",
       " 4          1005.0     Cheuk Yin     Yes    2002-05-01,\n",
       "    Student Number       Course Name  Exam Score\n",
       " 0          1001.0  Computer Science        78.0\n",
       " 1          1002.0             Maths        55.0\n",
       " 2          1003.0  Computer Science        90.0\n",
       " 3          1004.0             Maths        70.0\n",
       " 4          1005.0  Computer Science        45.0,\n",
       "         Course Name Exam Boards Teacher Name\n",
       " 0  Computer Science         BCS     Mr Jones\n",
       " 1             Maths         AQA    Ms Parker)"
      ]
     },
     "execution_count": 5,
     "metadata": {},
     "output_type": "execute_result"
    }
   ],
   "source": [
    "# Create a separate table for course details: 'course_details'\n",
    "course_details = df[['Course Name', 'Exam Boards', 'Teacher Name']].drop_duplicates().reset_index(drop=True)\n",
    "\n",
    "# Update the 'courses' table to remove 'Exam Boards' and 'Teacher Name'\n",
    "courses = df[['Student Number', 'Course Name', 'Exam Score']].reset_index(drop=True)\n",
    "\n",
    "# Display the data\n",
    "students, courses, course_details\n"
   ]
  },
  {
   "cell_type": "code",
   "execution_count": null,
   "id": "78b696c6",
   "metadata": {},
   "outputs": [],
   "source": []
  }
 ],
 "metadata": {
  "kernelspec": {
   "display_name": "Python 3 (ipykernel)",
   "language": "python",
   "name": "python3"
  },
  "language_info": {
   "codemirror_mode": {
    "name": "ipython",
    "version": 3
   },
   "file_extension": ".py",
   "mimetype": "text/x-python",
   "name": "python",
   "nbconvert_exporter": "python",
   "pygments_lexer": "ipython3",
   "version": "3.10.9"
  }
 },
 "nbformat": 4,
 "nbformat_minor": 5
}
