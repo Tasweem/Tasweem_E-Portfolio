{
 "cells": [
  {
   "cell_type": "code",
   "execution_count": 1,
   "id": "4731af5f",
   "metadata": {},
   "outputs": [],
   "source": [
    "import sqlite3\n",
    "from sqlite3 import Error\n",
    "\n",
    "def create_connection():\n",
    "    conn = None\n",
    "    try:\n",
    "        # This creates a SQLite database in memory. To persist the data, replace ':memory:' with 'database_name.db'\n",
    "        conn = sqlite3.connect(':memory:')\n",
    "        print(f'successful SQLite connection with id {id(conn)}')\n",
    "    except Error as e:\n",
    "        print(e)\n",
    "    return conn\n",
    "\n",
    "def close_connection(conn):\n",
    "    conn.close()\n",
    "    print(f'connection closed for id {id(conn)}')\n",
    "\n",
    "\n"
   ]
  },
  {
   "cell_type": "code",
   "execution_count": 2,
   "id": "fa3b729e",
   "metadata": {},
   "outputs": [],
   "source": [
    "def create_table(conn, create_table_sql):\n",
    "    try:\n",
    "        c = conn.cursor()\n",
    "        c.execute(create_table_sql)\n",
    "    except Error as e:\n",
    "        print(e)\n",
    "\n",
    "def insert_data(conn, table, data):\n",
    "    with conn:\n",
    "        c = conn.cursor()\n",
    "        placeholders = ', '.join('?' * len(data[0]))  # Create placeholders based on data length\n",
    "        c.executemany(f'INSERT INTO {table} VALUES ({placeholders})', data)\n",
    "\n",
    "def select_all_data(conn, table):\n",
    "    with conn:\n",
    "        c = conn.cursor()\n",
    "        c.execute(f\"SELECT * FROM {table}\")\n",
    "        rows = c.fetchall()\n",
    "        for row in rows:\n",
    "            print(row)\n",
    "\n"
   ]
  },
  {
   "cell_type": "code",
   "execution_count": 5,
   "id": "39a99b2d",
   "metadata": {},
   "outputs": [],
   "source": [
    "def test_referential_integrity(conn):\n",
    "    c = conn.cursor()\n",
    "    # Trying to insert a record into 'courses' that has a 'Student_Number' or 'Course_Name' \n",
    "    # that doesn't exist in the 'students' or 'course_details' table, respectively.\n",
    "    try:\n",
    "        c.execute(\"INSERT INTO courses VALUES (9999, 'Nonexistent Course', 80)\")\n",
    "        conn.commit()\n",
    "    except sqlite3.IntegrityError as e:\n",
    "        print(\"IntegrityError:\", e)\n",
    "\n"
   ]
  },
  {
   "cell_type": "code",
   "execution_count": 4,
   "id": "99bb7b34",
   "metadata": {},
   "outputs": [
    {
     "name": "stdout",
     "output_type": "stream",
     "text": [
      "successful SQLite connection with id 3003085915968\n",
      "(1001, 'Bob Baker', 'No', '2001-08-25')\n",
      "(1002, 'Sally Davies', 'Yes', '1999-10-02')\n",
      "(1003, 'Mark Hanmill', 'No', '1995-06-05')\n",
      "(1004, 'Anas Ali', 'No', '1980-08-03')\n",
      "(1005, 'Cheuk Yin', 'Yes', '2002-05-01')\n",
      "('Computer Science', 'BCS', 'Mr Jones')\n",
      "('Maths', 'AQA', 'Ms Parker')\n",
      "(1001, 'Computer Science', 78)\n",
      "(1002, 'Maths', 55)\n",
      "(1003, 'Computer Science', 90)\n",
      "(1004, 'Maths', 70)\n",
      "(1005, 'Computer Science', 45)\n",
      "connection closed for id 3003085915968\n"
     ]
    }
   ],
   "source": [
    "def main():\n",
    "    database = r\":memory:\" # In-memory database. Replace with 'database_name.db' to persist data\n",
    "\n",
    "    students_table = \"\"\" CREATE TABLE IF NOT EXISTS students (\n",
    "                            Student_Number integer PRIMARY KEY,\n",
    "                            Student_Name text NOT NULL,\n",
    "                            Support text,\n",
    "                            Date_of_Birth text\n",
    "                        ); \"\"\"\n",
    "\n",
    "    course_details_table = \"\"\"CREATE TABLE IF NOT EXISTS course_details (\n",
    "                                Course_Name text PRIMARY KEY,\n",
    "                                Exam_Boards text NOT NULL,\n",
    "                                Teacher_Name text NOT NULL\n",
    "                            );\"\"\"\n",
    "\n",
    "    courses_table = \"\"\"CREATE TABLE IF NOT EXISTS courses (\n",
    "                        Student_Number integer NOT NULL,\n",
    "                        Course_Name text NOT NULL,\n",
    "                        Exam_Score integer,\n",
    "                        FOREIGN KEY (Student_Number) REFERENCES students (Student_Number),\n",
    "                        FOREIGN KEY (Course_Name) REFERENCES course_details (Course_Name)\n",
    "                    );\"\"\"\n",
    "\n",
    "    conn = create_connection()\n",
    "\n",
    "    if conn is not None:\n",
    "        # create students table\n",
    "        create_table(conn, students_table)\n",
    "        students_data = [\n",
    "            (1001, 'Bob Baker', 'No', '2001-08-25'),\n",
    "            (1002, 'Sally Davies', 'Yes', '1999-10-02'),\n",
    "            (1003, 'Mark Hanmill', 'No', '1995-06-05'),\n",
    "            (1004, 'Anas Ali', 'No', '1980-08-03'),\n",
    "            (1005, 'Cheuk Yin', 'Yes', '2002-05-01')\n",
    "        ]\n",
    "        insert_data(conn, 'students', students_data)\n",
    "        select_all_data(conn, 'students')  # view the data\n",
    "\n",
    "        # create course_details table\n",
    "        create_table(conn, course_details_table)\n",
    "        course_details_data = [\n",
    "            ('Computer Science', 'BCS', 'Mr Jones'),\n",
    "            ('Maths', 'AQA', 'Ms Parker')\n",
    "        ]\n",
    "        insert_data(conn, 'course_details', course_details_data)\n",
    "        select_all_data(conn, 'course_details')  # view the data\n",
    "\n",
    "        # create courses table\n",
    "        create_table(conn, courses_table)\n",
    "        courses_data = [\n",
    "            (1001, 'Computer Science', 78),\n",
    "            (1002, 'Maths', 55),\n",
    "            (1003, 'Computer Science', 90),\n",
    "            (1004, 'Maths', 70),\n",
    "            (1005, 'Computer Science', 45)\n",
    "        ]\n",
    "        insert_data(conn, 'courses', courses_data)\n",
    "        select_all_data(conn, 'courses')  # view the data\n",
    "\n",
    "        # Test referential integrity\n",
    "        test_referential_integrity(conn)\n",
    "\n",
    "        close_connection(conn)\n",
    "    else:\n",
    "        print(\"Error! Cannot create the database connection.\")\n",
    "\n",
    "if __name__ == '__main__':\n",
    "    main()\n"
   ]
  },
  {
   "cell_type": "code",
   "execution_count": 6,
   "id": "93f4755e",
   "metadata": {},
   "outputs": [],
   "source": [
    "\n",
    "def test_referential_integrity(conn):\n",
    "    c = conn.cursor()\n",
    "    # Trying to insert a record into 'courses' that has a 'Student_Number' or 'Course_Name' \n",
    "    # that doesn't exist in the 'students' or 'course_details' table, respectively.\n",
    "    try:\n",
    "        c.execute(\"INSERT INTO courses VALUES (9999, 'Nonexistent Course', 80)\")\n",
    "        conn.commit()\n",
    "    except sqlite3.IntegrityError as e:\n",
    "        print(\"IntegrityError:\", e)\n"
   ]
  },
  {
   "cell_type": "code",
   "execution_count": null,
   "id": "14d84593",
   "metadata": {},
   "outputs": [],
   "source": [
    "\n"
   ]
  },
  {
   "cell_type": "code",
   "execution_count": null,
   "id": "cb2c8184",
   "metadata": {},
   "outputs": [],
   "source": [
    "\n"
   ]
  }
 ],
 "metadata": {
  "kernelspec": {
   "display_name": "Python 3 (ipykernel)",
   "language": "python",
   "name": "python3"
  },
  "language_info": {
   "codemirror_mode": {
    "name": "ipython",
    "version": 3
   },
   "file_extension": ".py",
   "mimetype": "text/x-python",
   "name": "python",
   "nbconvert_exporter": "python",
   "pygments_lexer": "ipython3",
   "version": "3.10.9"
  }
 },
 "nbformat": 4,
 "nbformat_minor": 5
}
